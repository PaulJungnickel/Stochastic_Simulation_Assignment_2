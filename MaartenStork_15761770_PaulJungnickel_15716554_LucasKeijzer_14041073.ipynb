{
 "cells": [
  {
   "cell_type": "markdown",
   "metadata": {},
   "source": [
    "# Stochastic Simulation Assignment 2"
   ]
  },
  {
   "cell_type": "markdown",
   "metadata": {},
   "source": [
    "# Todo list:\n",
    "\n",
    "#### 2)\n",
    "use some z/t/etc test\n",
    "\n",
    "#### 3)\n",
    "priority queue impl does not yet exist\n",
    "\n",
    "#### 4)\n",
    "longtail dist should have same mean as other dists"
   ]
  },
  {
   "cell_type": "code",
   "execution_count": 1,
   "metadata": {},
   "outputs": [],
   "source": [
    "# Imports\n",
    "\n",
    "import simpy\n",
    "import queue\n",
    "import numpy.random as rand\n",
    "import numpy as np\n",
    "import matplotlib.pyplot as plt\n",
    "\n",
    "from stochasticQueueing import *"
   ]
  },
  {
   "cell_type": "markdown",
   "metadata": {},
   "source": [
    "## 2)"
   ]
  },
  {
   "cell_type": "code",
   "execution_count": null,
   "metadata": {},
   "outputs": [],
   "source": [
    "def M_M_n_simulation(system_load, server_count, sim_duration, seed=42, queue_type='FIFO'):\n",
    "    \"\"\"\n",
    "    Simulates an M/M/n queueing system.\n",
    "\n",
    "    Parameters:\n",
    "    - system_load: The load factor of the system (λ/μ).\n",
    "    - server_count: The number of servers in the system.\n",
    "    - sim_duration: The duration of the simulation.\n",
    "    - seed: Seed for the random number generator to ensure reproducibility (default is 42).\n",
    "    - queue_type: Type of queue (default is 'FIFO').\n",
    "\n",
    "    Returns:\n",
    "    - sim.results(): Results of the queueing simulation.\n",
    "    \"\"\"\n",
    "\n",
    "    # Set arrival and service rates\n",
    "    arrival_rate = server_count\n",
    "    service_rate = 1 / system_load\n",
    "\n",
    "    arrival_dist = lambda: rand.exponential(1 / arrival_rate)\n",
    "    service_dist = lambda: rand.exponential(1 / service_rate)\n",
    "\n",
    "    # Initialize and run the simulation\n",
    "    sim = ServerQueueingSimulation(\n",
    "        arrival_dist, service_dist, server_count, queue_type=queue_type, sim_duration=sim_duration, seed=seed\n",
    "    )\n",
    "    return sim.results()"
   ]
  },
  {
   "cell_type": "code",
   "execution_count": 3,
   "metadata": {},
   "outputs": [
    {
     "name": "stdout",
     "output_type": "stream",
     "text": [
      "1 9.445273799906728\n",
      "2 5.818863542882133\n",
      "4 11.506997412114469\n",
      "8 8.66084096322714\n",
      "16 1.994895546163684\n"
     ]
    },
    {
     "data": {
      "text/plain": [
       "<matplotlib.legend.Legend at 0x7fc1f05b1250>"
      ]
     },
     "execution_count": 3,
     "metadata": {},
     "output_type": "execute_result"
    },
    {
     "data": {
      "image/png": "[encoded data removed]",
      "text/plain": [
       "<Figure size 640x480 with 1 Axes>"
      ]
     },
     "metadata": {},
     "output_type": "display_data"
    }
   ],
   "source": [
    "server_counts = [1, 2, 4, 8, 16]\n",
    "num_runs = 100\n",
    "rand.seed(42)\n",
    "system_loads = 1 - np.logspace(-0.5, -7, 15)\n",
    "mean_wait_time = np.zeros_like(system_loads)\n",
    "std_wait_time = np.zeros_like(system_loads)\n",
    "for server_count in server_counts:\n",
    "    for i, system_load in enumerate(system_loads):\n",
    "        wait_times = np.zeros(num_runs)\n",
    "        for j in range(num_runs):\n",
    "            \n",
    "            res = M_M_n_simulation(system_load, server_count, 1000, seed=rand.randint(0,2**31-1))\n",
    "            wait_times[j] = res['Average Wait Time']\n",
    "\n",
    "        mean_wait_time[i] = np.mean(wait_times)\n",
    "        std_wait_time[i] = np.std(wait_times)\n",
    "    # plt.plot(1 - system_loads, mean_wait_time, label=f'{server_count}')\n",
    "    print(server_count, np.mean(wait_times[-1]))\n",
    "    plt.errorbar(1 - system_loads, mean_wait_time, 1.96*std_wait_time/np.sqrt(num_runs), linestyle='', label=f'{server_count}', capsize=5, elinewidth=1)\n",
    "plt.grid()\n",
    "plt.xscale('log')\n",
    "plt.yscale('log')\n",
    "plt.xlabel(r'$1-\\rho$', fontsize=14) \n",
    "plt.ylabel('Mean Wait Time', fontsize=14) \n",
    "plt.xticks(fontsize=12) \n",
    "plt.yticks(fontsize=12) \n",
    "plt.legend(title='server count', title_fontsize=12, fontsize=12)\n"
   ]
  },
  {
   "cell_type": "code",
   "execution_count": null,
   "metadata": {},
   "outputs": [],
   "source": [
    "server_counts = [1, 2, 4]\n",
    "num_runs = 1\n",
    "rand.seed(42)\n",
    "system_load = 0.99\n",
    "max_duration = np.logspace(1, 7, 15)\n",
    "mean_wait_time = np.zeros_like(max_duration)\n",
    "std_wait_time = np.zeros_like(max_duration)\n",
    "for server_count in server_counts:\n",
    "    for i, duration in enumerate(max_duration):\n",
    "        wait_times = np.zeros(num_runs)\n",
    "        for j in range(num_runs):\n",
    "            \n",
    "            res = M_M_n_simulation(system_load, server_count, duration, seed=rand.randint(0,2**31-1))\n",
    "            wait_times[j] = res['Average Wait Time']\n",
    "\n",
    "        mean_wait_time[i] = np.mean(wait_times)\n",
    "        std_wait_time[i] = np.std(wait_times)\n",
    "    # plt.plot(1 - system_loads, mean_wait_time, label=f'{server_count}')\n",
    "    print(server_count, np.mean(wait_times[-1]))\n",
    "    plt.errorbar(max_duration, mean_wait_time, 1.96*std_wait_time/np.sqrt(num_runs), linestyle='', label=f'{server_count}', capsize=5, elinewidth=1)\n",
    "plt.grid()\n",
    "plt.xscale('log')\n",
    "plt.yscale('log')\n",
    "plt.xticks(fontsize=12) \n",
    "plt.yticks(fontsize=12) \n",
    "plt.xlabel(r'simulation duration', fontsize=14)\n",
    "plt.ylabel('mean wait time', fontsize=14)\n",
    "plt.legend(title='server count', title_fontsize=12, fontsize=12)"
   ]
  },
  {
   "cell_type": "markdown",
   "metadata": {},
   "source": [
    "## 3)\n"
   ]
  },
  {
   "cell_type": "code",
   "execution_count": null,
   "metadata": {},
   "outputs": [],
   "source": [
    "server_counts = [1]\n",
    "num_runs = 100\n",
    "rand.seed(42)\n",
    "system_loads = 1 - np.logspace(-0.5, -7, 15)\n",
    "\n",
    "for queue_type in ['FIFO', 'SJF']:\n",
    "    for server_count in server_counts:\n",
    "        mean_wait_time = np.zeros_like(system_loads)\n",
    "        std_wait_time = np.zeros_like(system_loads)\n",
    "        for i, system_load in enumerate(system_loads):\n",
    "            wait_times = np.zeros(num_runs)\n",
    "            for j in range(num_runs):\n",
    "                res = M_M_n_simulation(\n",
    "                    system_load, server_count, 1000, seed=rand.randint(0, 2**31 - 1), queue_type=queue_type\n",
    "                )\n",
    "                wait_times[j] = res['Average Wait Time']\n",
    "\n",
    "            mean_wait_time[i] = np.mean(wait_times)\n",
    "            std_wait_time[i] = np.std(wait_times)\n",
    "        plt.errorbar(\n",
    "            1 - system_loads,\n",
    "            mean_wait_time,\n",
    "            std_wait_time,\n",
    "            linestyle='',\n",
    "            label=f'{queue_type}',\n",
    "            capsize=5,\n",
    "            elinewidth=1,\n",
    "        )\n",
    "\n",
    "plt.grid()\n",
    "plt.xscale('log')\n",
    "plt.yscale('log')\n",
    "plt.xlabel(r'$1-\\rho$', fontsize=14) \n",
    "plt.ylabel('Mean Wait Time', fontsize=14) \n",
    "plt.xticks(fontsize=12) \n",
    "plt.yticks(fontsize=12) \n",
    "plt.legend(title='Queue Type', title_fontsize=12, fontsize=12)\n",
    "plt.show()\n"
   ]
  },
  {
   "cell_type": "code",
   "execution_count": null,
   "metadata": {},
   "outputs": [],
   "source": [
    "server_counts = [1]\n",
    "num_runs = 100\n",
    "rand.seed(42)\n",
    "system_loads = 1 - np.logspace(-0.5, -7, 15)\n",
    "\n",
    "for queue_type in ['FIFO', 'SJF']:\n",
    "    for server_count in server_counts:\n",
    "        mean_wait_time = np.zeros_like(system_loads)\n",
    "        std_wait_time = np.zeros_like(system_loads)\n",
    "        for i, system_load in enumerate(system_loads):\n",
    "            wait_times = np.zeros(num_runs)\n",
    "            for j in range(num_runs):\n",
    "                res = M_M_n_simulation(\n",
    "                    system_load, server_count, 1000, seed=rand.randint(0, 2**31 - 1), queue_type=queue_type\n",
    "                )\n",
    "                wait_times[j] = res['Average Wait Time']\n",
    "\n",
    "            mean_wait_time[i] = np.mean(wait_times)\n",
    "            std_wait_time[i] = np.std(wait_times)\n",
    "\n",
    "        # Plot with shadow (fill_between)\n",
    "        x_values = 1 - system_loads\n",
    "        plt.plot(x_values, mean_wait_time, label=f'{queue_type}')\n",
    "        plt.fill_between(\n",
    "            x_values,\n",
    "            mean_wait_time - std_wait_time,\n",
    "            mean_wait_time + std_wait_time,\n",
    "            alpha=0.2, label=f'STD of {queue_type}'\n",
    "        )\n",
    "\n",
    "plt.grid()\n",
    "plt.xscale('log')\n",
    "plt.yscale('log')\n",
    "plt.xlabel(r'$1-\\rho$', fontsize=14) \n",
    "plt.ylabel('Mean Wait Time', fontsize=14) \n",
    "plt.xticks(fontsize=12) \n",
    "plt.yticks(fontsize=12) \n",
    "plt.legend(title='Queue Type', title_fontsize=12, fontsize=12)\n",
    "\n",
    "plt.savefig('plots/queue_types_shadow_plot')\n",
    "plt.show()\n"
   ]
  },
  {
   "cell_type": "markdown",
   "metadata": {},
   "source": [
    "## 4)\n",
    "different service rates"
   ]
  },
  {
   "cell_type": "code",
   "execution_count": 6,
   "metadata": {},
   "outputs": [
    {
     "name": "stdout",
     "output_type": "stream",
     "text": [
      "exponential {'Average Wait Time': 8.407823678698447, 'Rejection Rate': 0.0, 'Completed Jobs': 100008, 'Total Jobs': 100009, 'Rejected Jobs': 0}\n",
      "deterministic (M/D/n) {'Average Wait Time': 4.053847207580608, 'Rejection Rate': 0.0, 'Completed Jobs': 100391, 'Total Jobs': 100399, 'Rejected Jobs': 0}\n",
      "hyperexponential {'Average Wait Time': 1967.6584223178397, 'Rejection Rate': 0.9747710487444609, 'Completed Jobs': 49774, 'Total Jobs': 50775, 'Rejected Jobs': 49494}\n"
     ]
    }
   ],
   "source": [
    "\n",
    "def M_X_n_simulation(system_load, server_count, sim_duration, seed=42, service_dist=None):\n",
    "    \"\"\"\n",
    "    Simulates an M/X/n queueing system.\n",
    "\n",
    "    Parameters:\n",
    "    - system_load: The load factor of the system (λ/μ).\n",
    "    - server_count: The number of servers in the system.\n",
    "    - sim_duration: The duration of the simulation.\n",
    "    - seed: Seed for the random number generator to ensure reproducibility (default is 42).\n",
    "    - service_dist: Custom service distribution (default is exponential).\n",
    "\n",
    "    Returns:\n",
    "    - sim.results(): Results of the queueing simulation.\n",
    "    \"\"\"\n",
    "\n",
    "    # Set arrival rate and job completion rate\n",
    "    arrival_rate = server_count\n",
    "    job_completion_rate = 1 / system_load\n",
    "    \n",
    "    arrival_dist = lambda: rand.exponential(1 / arrival_rate)\n",
    "\n",
    "    # Use default exponential service distribution if none is provided\n",
    "    if service_dist is None:\n",
    "        service_dist = lambda: rand.exponential(1 / job_completion_rate)\n",
    "\n",
    "    # Initialize and run the simulation\n",
    "    sim = ServerQueueingSimulation(arrival_dist, service_dist, server_count, sim_duration=sim_duration, seed=seed)\n",
    "    \n",
    "    return sim.results()\n",
    "\n",
    "\n",
    "for service_type in ['exponential', 'deterministic (M/D/n)', 'hyperexponential']:\n",
    "\n",
    "    service_rate = 1/0.9\n",
    "\n",
    "    if service_type == 'exponential':\n",
    "        service_dist =  lambda : rand.exponential(1 / service_rate)\n",
    "\n",
    "    elif service_type == 'deterministic (M/D/n)':\n",
    "        service_dist = lambda : 1/service_rate\n",
    "        \n",
    "    elif service_type == 'hyperexponential':\n",
    "        def service_dist():\n",
    "            if rand.rand() < 0.75:\n",
    "                return rand.exponential(1.0)\n",
    "            else:\n",
    "                return rand.exponential(5.0)\n",
    "\n",
    "    else:\n",
    "        raise ValueError(\"Unsupported service time distribution\")\n",
    "    \n",
    "\n",
    "    print(service_type, M_X_n_simulation(0.9, 1, 100000, service_dist=service_dist))\n",
    "    "
   ]
  }
 ],
 "metadata": {
  "kernelspec": {
   "display_name": "base",
   "language": "python",
   "name": "python3"
  },
  "language_info": {
   "codemirror_mode": {
    "name": "ipython",
    "version": 3
   },
   "file_extension": ".py",
   "mimetype": "text/x-python",
   "name": "python",
   "nbconvert_exporter": "python",
   "pygments_lexer": "ipython3",
   "version": "3.9.13"
  }
 },
 "nbformat": 4,
 "nbformat_minor": 2
}
