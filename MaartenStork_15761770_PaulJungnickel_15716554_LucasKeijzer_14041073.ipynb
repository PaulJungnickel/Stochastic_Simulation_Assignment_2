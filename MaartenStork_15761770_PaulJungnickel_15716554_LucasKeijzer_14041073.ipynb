{
 "cells": [
  {
   "cell_type": "markdown",
   "metadata": {},
   "source": [
    "# Stochastic Simulation Assignment 2"
   ]
  },
  {
   "cell_type": "markdown",
   "metadata": {},
   "source": [
    "# Todo list:\n",
    "\n",
    "#### 2)\n",
    "use some z/t/etc test\n",
    "\n",
    "#### 3)\n",
    "priority queue impl does not yet exist\n",
    "\n",
    "#### 4)\n",
    "longtail dist should have same mean as other dists"
   ]
  },
  {
   "cell_type": "code",
   "execution_count": 1,
   "metadata": {},
   "outputs": [],
   "source": [
    "import simpy\n",
    "import queue\n",
    "import numpy.random as rand\n",
    "import numpy as np\n",
    "import matplotlib.pyplot as plt\n",
    "import pandas as pd\n",
    "\n",
    "from stochasticQueueing import *"
   ]
  },
  {
   "cell_type": "markdown",
   "metadata": {},
   "source": [
    "## 2)"
   ]
  },
  {
   "cell_type": "code",
   "execution_count": null,
   "metadata": {},
   "outputs": [
    {
     "name": "stdout",
     "output_type": "stream",
     "text": [
      "1 36.658456685046325\n"
     ]
    }
   ],
   "source": [
    "\n",
    "\n",
    "def M_M_n_simulation(system_load, server_count, sim_duration, seed=42, queue_type='FIFO', warmup_duration=0):\n",
    "    arrival_rate = server_count\n",
    "    service_rate = 1 / system_load\n",
    "\n",
    "    arrival_dist = lambda: rand.exponential(1 / arrival_rate)\n",
    "    service_dist = lambda: rand.exponential(1 / service_rate)\n",
    "\n",
    "    sim = ServerQueueingSimulation(\n",
    "        arrival_dist, service_dist, server_count, queue_type=queue_type, sim_duration=sim_duration, seed=seed, warmup_duration=warmup_duration\n",
    "    )\n",
    "    return sim.results()\n",
    "\n",
    "\n",
    "\n",
    "def B(c, rho):\n",
    "    if(c==0):\n",
    "        return 1\n",
    "    Bprev = B(c-1, rho)\n",
    "\n",
    "    return (rho * Bprev) / (c + rho*Bprev)\n",
    "\n",
    "def PiW(c, rho):\n",
    "    Bprev = B(c-1, c*rho)\n",
    "    return (rho*Bprev) / (1-rho + rho*Bprev)\n",
    "\n",
    "def expectedWaiting(c, rho):\n",
    "    if c==1:\n",
    "        return rho**2 / (1-rho)\n",
    "    else:\n",
    "        Pi = PiW(c, rho)\n",
    "        return Pi / ((1-rho)*(c/rho))\n",
    "\n",
    "server_counts = [1, 2, 4]\n",
    "num_runs = 20\n",
    "rand.seed(42)\n",
    "# system_loads = 1 - np.logspace(-0.5, -4, 9)\n",
    "system_loads = np.linspace(0.4,0.99, 10)\n",
    "mean_wait_time = np.zeros_like(system_loads)\n",
    "std_wait_time = np.zeros_like(system_loads)\n",
    "for server_count in server_counts:\n",
    "    for i, system_load in enumerate(system_loads):\n",
    "        wait_times = np.zeros(num_runs)\n",
    "        for j in range(num_runs):\n",
    "            \n",
    "            res = M_M_n_simulation(system_load, server_count, sim_duration=100000, warmup_duration=90000, seed=rand.randint(0,2**31-1))\n",
    "            wait_times[j] = res['Average Wait Time']\n",
    "\n",
    "        mean_wait_time[i] = np.mean(wait_times)\n",
    "        std_wait_time[i] = np.std(wait_times)\n",
    "    # plt.plot(1 - system_loads, mean_wait_time, label=f'{server_count}')\n",
    "    print(server_count, np.mean(wait_times[-1]))\n",
    "    plt.errorbar(system_loads, mean_wait_time, 1.96*std_wait_time/np.sqrt(num_runs), linestyle='', label=f'{server_count}', capsize=5, elinewidth=1)\n",
    "\n",
    "plot_loads = np.linspace(system_loads[0], system_loads[-1], 1000)\n",
    "for c in server_counts:\n",
    "    plt.plot(plot_loads, expectedWaiting(c, plot_loads), linestyle=':', color='grey')\n",
    "plt.grid()\n",
    "# plt.xscale('log')\n",
    "plt.yscale('log')\n",
    "plt.xlabel(r'$\\rho$')\n",
    "plt.ylabel('mean wait time')\n",
    "plt.legend(title='server count')\n",
    "plt.savefig('plots/2)')\n",
    "\n"
   ]
  },
  {
   "cell_type": "code",
   "execution_count": 9,
   "metadata": {},
   "outputs": [
    {
     "data": {
      "image/png": "[encoded data removed]",
      "text/plain": [
       "<Figure size 640x480 with 1 Axes>"
      ]
     },
     "metadata": {},
     "output_type": "display_data"
    }
   ],
   "source": [
    "server_count = 1\n",
    "run_count = [1000, 1000,200, 200,50, 50,20, 20, 10,5]\n",
    "# run_count = [1,1,1,1,1]\n",
    "rand.seed(42)\n",
    "# system_loads = [0.9, 0.99, 0.999, 0.9999]\n",
    "system_loads = [0.2,0.5,0.8,0.9,0.99, 0.999]\n",
    "max_duration = np.logspace(3, 7, 10)\n",
    "# mean_wait_time = np.zeros([len(system_loads), len(max_duration)])\n",
    "# std_wait_time = np.zeros([len(system_loads), len(max_duration)])\n",
    "# for l, system_load in enumerate(system_loads):\n",
    "#     for i, duration in enumerate(max_duration):\n",
    "\n",
    "#         num_runs = run_count[i]\n",
    "        \n",
    "#         wait_times = np.zeros(num_runs)\n",
    "#         for j in range(num_runs):\n",
    "            \n",
    "#             res = M_M_n_simulation(system_load, server_count, duration, seed=rand.randint(0,2**31-1), warmup_duration=0.9*duration)\n",
    "#             wait_times[j] = res['Average Wait Time']\n",
    "\n",
    "#         mean_wait_time[l,i] = np.mean(wait_times)\n",
    "#         std_wait_time[l,i] = np.std(wait_times)\n",
    "#         print('.')\n",
    "#     # plt.plot(1 - system_loads, mean_wait_time, label=f'{server_count}')\n",
    "#     print(system_load, np.mean(std_wait_time[-1]))\n",
    "\n",
    "# np.savez('data/duration-convergence-2.npz', mean_wait_time, std_wait_time)\n",
    "\n",
    "arrays = np.load('data/duration-convergence-2.npz')\n",
    "mean_wait_time, std_wait_time = arrays['arr_0'], arrays['arr_1']\n",
    "\n",
    "for l, system_load in enumerate(system_loads):\n",
    "\n",
    "    plt.errorbar(max_duration, mean_wait_time[l], 1.96*std_wait_time[l]/np.sqrt(run_count[l]), linestyle='', marker='_', label=f'{system_load}', capsize=5, elinewidth=1)\n",
    "\n",
    "plt.tight_layout()\n",
    "plt.grid()\n",
    "plt.ylim(0.011,10000)\n",
    "plt.xscale('log')\n",
    "plt.yscale('log')\n",
    "plt.xlabel(r'simulation duration')\n",
    "plt.ylabel('mean wait time')\n",
    "plt.legend(title='system load', loc=1, ncols=6)\n",
    "plt.savefig('plots/duration-0.9-warmup.png', dpi=600 )\n"
   ]
  },
  {
   "cell_type": "markdown",
   "metadata": {},
   "source": [
    "## 3)\n",
    "\n",
    "todo: priotity queue"
   ]
  },
  {
   "cell_type": "code",
   "execution_count": null,
   "metadata": {},
   "outputs": [
    {
     "data": {
      "image/png": "[encoded data removed]",
      "text/plain": [
       "<Figure size 640x480 with 1 Axes>"
      ]
     },
     "metadata": {},
     "output_type": "display_data"
    }
   ],
   "source": [
    "server_counts = [1]\n",
    "num_runs = 50\n",
    "rand.seed(42)\n",
    "system_loads = 1 - np.logspace(-0.5, -7, 15)\n",
    "\n",
    "for queue_type in ['FIFO', 'SJF']:\n",
    "    for server_count in server_counts:\n",
    "        mean_wait_time = np.zeros_like(system_loads)\n",
    "        std_wait_time = np.zeros_like(system_loads)\n",
    "        for i, system_load in enumerate(system_loads):\n",
    "            wait_times = np.zeros(num_runs)\n",
    "            for j in range(num_runs):\n",
    "                res = M_M_n_simulation(\n",
    "                    system_load, server_count, 1000, seed=rand.randint(0, 2**31 - 1), queue_type=queue_type\n",
    "                )\n",
    "                wait_times[j] = res['Average Wait Time']\n",
    "\n",
    "            mean_wait_time[i] = np.mean(wait_times)\n",
    "            std_wait_time[i] = np.std(wait_times)\n",
    "        plt.errorbar(\n",
    "            1 - system_loads,\n",
    "            mean_wait_time,\n",
    "            std_wait_time,\n",
    "            linestyle='',\n",
    "            label=f'{queue_type}, n={server_count}',\n",
    "            capsize=5,\n",
    "            elinewidth=1,\n",
    "        )\n",
    "\n",
    "plt.grid()\n",
    "plt.xscale('log')\n",
    "plt.yscale('log')\n",
    "plt.xlabel(r'$1-\\rho$')\n",
    "plt.ylabel('mean wait time')\n",
    "plt.legend(title='Queue Type and Server Count')\n",
    "plt.show()\n"
   ]
  },
  {
   "cell_type": "markdown",
   "metadata": {},
   "source": [
    "## 4)\n",
    "different service rates"
   ]
  },
  {
   "cell_type": "code",
   "execution_count": null,
   "metadata": {},
   "outputs": [
    {
     "name": "stdout",
     "output_type": "stream",
     "text": [
      "exponential {'Average Wait Time': 8.407823678698447, 'Rejection Rate': 0.0, 'Completed Jobs': 100008, 'Total Jobs': 100008, 'Rejected Jobs': 0}\n",
      "deterministic (M/D/n) {'Average Wait Time': 4.0537288766632225, 'Rejection Rate': 0.0, 'Completed Jobs': 100391, 'Total Jobs': 100398, 'Rejected Jobs': 0}\n",
      "hyperexponential {'Average Wait Time': 1948.6577772130813, 'Rejection Rate': 0.9747902469767992, 'Completed Jobs': 49774, 'Total Jobs': 50774, 'Rejected Jobs': 49494}\n"
     ]
    }
   ],
   "source": [
    "\n",
    "def M_X_n_simulation(system_load, server_count, sim_duration, seed=42, service_dist = None):\n",
    "\n",
    "    arrival_rate = server_count\n",
    "    job_completion_rate = 1/system_load\n",
    "    \n",
    "    arrival_dist = lambda : rand.exponential(1/arrival_rate)\n",
    "\n",
    "    if service_dist == None:\n",
    "        service_dist = lambda : rand.exponential(1/job_completion_rate)\n",
    "\n",
    "\n",
    "    sim = ServerQueueingSimulation(arrival_dist, service_dist, server_count, sim_duration=sim_duration, seed=seed)\n",
    "\n",
    "    return sim.results()\n",
    "\n",
    "\n",
    "\n",
    "for service_type in ['exponential', 'deterministic (M/D/n)', 'hyperexponential']:\n",
    "\n",
    "    service_rate = 1/0.9\n",
    "\n",
    "    if service_type == 'exponential':\n",
    "        service_dist =  lambda : rand.exponential(1 / service_rate)\n",
    "\n",
    "    elif service_type == 'deterministic (M/D/n)':\n",
    "        service_dist = lambda : 1/service_rate\n",
    "        \n",
    "    elif service_type == 'hyperexponential':\n",
    "        def service_dist():\n",
    "            if rand.rand() < 0.75:\n",
    "                return rand.exponential(1.0)\n",
    "            else:\n",
    "                return rand.exponential(5.0)\n",
    "\n",
    "    else:\n",
    "        raise ValueError(\"Unsupported service time distribution\")\n",
    "    \n",
    "\n",
    "    print(service_type, M_X_n_simulation(0.9, 1, 100000, service_dist=service_dist))"
   ]
  }
 ],
 "metadata": {
  "kernelspec": {
   "display_name": "introcls",
   "language": "python",
   "name": "python3"
  },
  "language_info": {
   "codemirror_mode": {
    "name": "ipython",
    "version": 3
   },
   "file_extension": ".py",
   "mimetype": "text/x-python",
   "name": "python",
   "nbconvert_exporter": "python",
   "pygments_lexer": "ipython3",
   "version": "3.12.5"
  }
 },
 "nbformat": 4,
 "nbformat_minor": 2
}
